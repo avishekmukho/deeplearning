{
 "cells": [
  {
   "cell_type": "code",
   "execution_count": 4,
   "metadata": {},
   "outputs": [],
   "source": [
    "import tensorflow as tf\n",
    "from tensorflow import keras\n",
    "from tensorflow.python.keras.models import Sequential\n",
    "from tensorflow.python.keras.layers import Dense\n",
    "import numpy as np\n",
    "\n",
    "\n",
    "#Create a 2 layer Neural network\n",
    "#Input layer has 3 inputs\n",
    "#First ANN layer has  neurons\n",
    "#Weight matrix of the first layer will have (2*3) weights and 2 bias\n",
    "#z in the first layer will be dot product of (w1x1.....w3x3)\n",
    "#Output of layer 1, will be row vector of 2 scalars (activation of z)\n",
    "model = Sequential()\n",
    "layer_1 = Dense(2, input_shape = (3,), activation = 'relu')\n",
    "model.add(layer_1)"
   ]
  },
  {
   "cell_type": "code",
   "execution_count": 5,
   "metadata": {},
   "outputs": [],
   "source": [
    "#creating the second layer which will have 2 inputs, (from the first layer)\n",
    "#in second layer we dont need to give the input shape\n",
    "layer_2 = Dense(1, activation = 'sigmoid')\n",
    "model.add(layer_2)"
   ]
  },
  {
   "cell_type": "code",
   "execution_count": 6,
   "metadata": {},
   "outputs": [],
   "source": [
    "model.compile(loss='huber_loss',optimizer='adam',metrics=['accuracy'])"
   ]
  },
  {
   "cell_type": "code",
   "execution_count": 7,
   "metadata": {},
   "outputs": [
    {
     "name": "stdout",
     "output_type": "stream",
     "text": [
      "Model: \"sequential_1\"\n",
      "_________________________________________________________________\n",
      "Layer (type)                 Output Shape              Param #   \n",
      "=================================================================\n",
      "dense_2 (Dense)              (None, 2)                 8         \n",
      "_________________________________________________________________\n",
      "dense_3 (Dense)              (None, 1)                 3         \n",
      "=================================================================\n",
      "Total params: 11\n",
      "Trainable params: 11\n",
      "Non-trainable params: 0\n",
      "_________________________________________________________________\n"
     ]
    }
   ],
   "source": [
    "model.summary()"
   ]
  },
  {
   "cell_type": "code",
   "execution_count": 16,
   "metadata": {},
   "outputs": [],
   "source": [
    "#w1 is the weights for hidden layer, its a 3 by 2 matrix, 3 weights for input matrix, 2 for weights\n",
    "w1 = np.zeros((3, 2)) # two input neurons for two neurons at the hidden layer\n",
    "#b1 is the weight for 2 bias, one each for neuron\n",
    "b1 = np.zeros((2,))   # one bias neuron for two neurons in the hidden layer\n"
   ]
  },
  {
   "cell_type": "code",
   "execution_count": 17,
   "metadata": {},
   "outputs": [
    {
     "data": {
      "text/plain": [
       "array([[0., 0.],\n",
       "       [0., 0.],\n",
       "       [0., 0.]])"
      ]
     },
     "execution_count": 17,
     "metadata": {},
     "output_type": "execute_result"
    }
   ],
   "source": [
    "w1"
   ]
  },
  {
   "cell_type": "code",
   "execution_count": 18,
   "metadata": {},
   "outputs": [
    {
     "data": {
      "text/plain": [
       "array([0., 0.])"
      ]
     },
     "execution_count": 18,
     "metadata": {},
     "output_type": "execute_result"
    }
   ],
   "source": [
    "b1"
   ]
  },
  {
   "cell_type": "code",
   "execution_count": 19,
   "metadata": {},
   "outputs": [],
   "source": [
    "#w2 are the weights for output layers, its a 2 by 1 matrix,\n",
    "#ie one each from two hidden layers\n",
    "w2 = np.zeros((2, 1)) # two input neurons for one output neuron"
   ]
  },
  {
   "cell_type": "code",
   "execution_count": 20,
   "metadata": {},
   "outputs": [],
   "source": [
    "b2 = np.zeros((1,))   # one bias for one output neuron"
   ]
  },
  {
   "cell_type": "code",
   "execution_count": 21,
   "metadata": {},
   "outputs": [],
   "source": [
    "#Setting the weight matrix\n",
    "model.set_weights([w1, b1, w2, b2])"
   ]
  },
  {
   "cell_type": "code",
   "execution_count": 22,
   "metadata": {},
   "outputs": [
    {
     "data": {
      "text/plain": [
       "[array([[0., 0.],\n",
       "        [0., 0.],\n",
       "        [0., 0.]], dtype=float32), array([0., 0.], dtype=float32)]"
      ]
     },
     "execution_count": 22,
     "metadata": {},
     "output_type": "execute_result"
    }
   ],
   "source": [
    "layer_1.get_weights()"
   ]
  },
  {
   "cell_type": "code",
   "execution_count": 26,
   "metadata": {},
   "outputs": [
    {
     "data": {
      "text/plain": [
       "[array([[0.],\n",
       "        [0.]], dtype=float32), array([0.], dtype=float32)]"
      ]
     },
     "execution_count": 26,
     "metadata": {},
     "output_type": "execute_result"
    }
   ],
   "source": [
    "layer_2.get_weights()"
   ]
  },
  {
   "cell_type": "code",
   "execution_count": 27,
   "metadata": {},
   "outputs": [],
   "source": [
    "#We will give some random initial input xi's \n",
    "\n",
    "X = np.array([[0.12,0.113,0.114],\n",
    "               [0.189, 0.13,0.1124],\n",
    "               [0.144,0.117, 0.117],\n",
    "                [0.013,0.09,0.008]])\n",
    "y =np.array([1,1,0,1])"
   ]
  },
  {
   "cell_type": "code",
   "execution_count": 28,
   "metadata": {},
   "outputs": [],
   "source": [
    "#code using keras callback which will collect weights \n",
    "from tensorflow.python.keras.callbacks import Callback\n",
    "\n",
    "class CollectWeightCallback(Callback):\n",
    "    def __init__(self, layer_index):\n",
    "        super(CollectWeightCallback, self).__init__()\n",
    "        self.layer_index = layer_index\n",
    "        self.weights = []\n",
    "\n",
    "    def on_epoch_end(self, epoch, logs=None):\n",
    "        layer = self.model.layers[self.layer_index]\n",
    "        self.weights.append(layer.get_weights())"
   ]
  },
  {
   "cell_type": "code",
   "execution_count": 29,
   "metadata": {},
   "outputs": [
    {
     "name": "stdout",
     "output_type": "stream",
     "text": [
      "WARNING:tensorflow:The `nb_epoch` argument in `fit` has been renamed `epochs`.\n",
      "WARNING:tensorflow:From C:\\Users\\amukhopa\\Documents\\Anaconda\\lib\\site-packages\\tensorflow\\python\\ops\\math_grad.py:1250: add_dispatch_support.<locals>.wrapper (from tensorflow.python.ops.array_ops) is deprecated and will be removed in a future version.\n",
      "Instructions for updating:\n",
      "Use tf.where in 2.0, which has the same broadcast rule as np.where\n",
      "Epoch 1/15\n",
      "4/4 [==============================] - 0s 27ms/sample - loss: 0.1250 - acc: 0.2500\n",
      "Epoch 2/15\n",
      "4/4 [==============================] - 0s 740us/sample - loss: 0.1249 - acc: 0.7500\n",
      "Epoch 3/15\n",
      "4/4 [==============================] - 0s 505us/sample - loss: 0.1249 - acc: 0.7500\n",
      "Epoch 4/15\n",
      "4/4 [==============================] - 0s 499us/sample - loss: 0.1248 - acc: 0.7500\n",
      "Epoch 5/15\n",
      "4/4 [==============================] - 0s 499us/sample - loss: 0.1248 - acc: 0.7500\n",
      "Epoch 6/15\n",
      "4/4 [==============================] - 0s 249us/sample - loss: 0.1247 - acc: 0.7500\n",
      "Epoch 7/15\n",
      "4/4 [==============================] - 0s 250us/sample - loss: 0.1246 - acc: 0.7500\n",
      "Epoch 8/15\n",
      "4/4 [==============================] - 0s 250us/sample - loss: 0.1246 - acc: 0.7500\n",
      "Epoch 9/15\n",
      "4/4 [==============================] - 0s 754us/sample - loss: 0.1245 - acc: 0.7500\n",
      "Epoch 10/15\n",
      "4/4 [==============================] - 0s 498us/sample - loss: 0.1244 - acc: 0.7500\n",
      "Epoch 11/15\n",
      "4/4 [==============================] - 0s 249us/sample - loss: 0.1244 - acc: 0.7500\n",
      "Epoch 12/15\n",
      "4/4 [==============================] - 0s 249us/sample - loss: 0.1243 - acc: 0.7500\n",
      "Epoch 13/15\n",
      "4/4 [==============================] - 0s 499us/sample - loss: 0.1243 - acc: 0.7500\n",
      "Epoch 14/15\n",
      "4/4 [==============================] - 0s 249us/sample - loss: 0.1242 - acc: 0.7500\n",
      "Epoch 15/15\n",
      "4/4 [==============================] - 0s 499us/sample - loss: 0.1241 - acc: 0.7500\n"
     ]
    },
    {
     "data": {
      "text/plain": [
       "<tensorflow.python.keras.callbacks.History at 0x21a994249c8>"
      ]
     },
     "execution_count": 29,
     "metadata": {},
     "output_type": "execute_result"
    }
   ],
   "source": [
    "#Running the model with 15 epochs\n",
    "cbk = CollectWeightCallback(layer_index=-1)\n",
    "model.fit(X, y, nb_epoch=15, callbacks=[cbk])"
   ]
  },
  {
   "cell_type": "code",
   "execution_count": 30,
   "metadata": {},
   "outputs": [
    {
     "data": {
      "text/plain": [
       "[[array([[0.],\n",
       "         [0.]], dtype=float32), array([0.00099995], dtype=float32)],\n",
       " [array([[0.],\n",
       "         [0.]], dtype=float32), array([0.00199988], dtype=float32)],\n",
       " [array([[0.],\n",
       "         [0.]], dtype=float32), array([0.00299979], dtype=float32)],\n",
       " [array([[0.],\n",
       "         [0.]], dtype=float32), array([0.00399963], dtype=float32)],\n",
       " [array([[0.],\n",
       "         [0.]], dtype=float32), array([0.00499939], dtype=float32)],\n",
       " [array([[0.],\n",
       "         [0.]], dtype=float32), array([0.00599907], dtype=float32)],\n",
       " [array([[0.],\n",
       "         [0.]], dtype=float32), array([0.00699863], dtype=float32)],\n",
       " [array([[0.],\n",
       "         [0.]], dtype=float32), array([0.00799807], dtype=float32)],\n",
       " [array([[0.],\n",
       "         [0.]], dtype=float32), array([0.00899736], dtype=float32)],\n",
       " [array([[0.],\n",
       "         [0.]], dtype=float32), array([0.00999648], dtype=float32)],\n",
       " [array([[0.],\n",
       "         [0.]], dtype=float32), array([0.01099544], dtype=float32)],\n",
       " [array([[0.],\n",
       "         [0.]], dtype=float32), array([0.01199419], dtype=float32)],\n",
       " [array([[0.],\n",
       "         [0.]], dtype=float32), array([0.01299274], dtype=float32)],\n",
       " [array([[0.],\n",
       "         [0.]], dtype=float32), array([0.01399107], dtype=float32)],\n",
       " [array([[0.],\n",
       "         [0.]], dtype=float32), array([0.01498916], dtype=float32)]]"
      ]
     },
     "execution_count": 30,
     "metadata": {},
     "output_type": "execute_result"
    }
   ],
   "source": [
    "#the weights will be collected in \n",
    "cbk.weights"
   ]
  },
  {
   "cell_type": "code",
   "execution_count": 31,
   "metadata": {},
   "outputs": [
    {
     "name": "stdout",
     "output_type": "stream",
     "text": [
      "WARNING:tensorflow:The `nb_epoch` argument in `fit` has been renamed `epochs`.\n",
      "Epoch 1/15\n",
      "4/4 [==============================] - 0s 1ms/sample - loss: 0.1241 - acc: 0.7500\n",
      "Epoch 2/15\n",
      "4/4 [==============================] - 0s 499us/sample - loss: 0.1240 - acc: 0.7500\n",
      "Epoch 3/15\n",
      "4/4 [==============================] - 0s 499us/sample - loss: 0.1239 - acc: 0.7500\n",
      "Epoch 4/15\n",
      "4/4 [==============================] - 0s 499us/sample - loss: 0.1239 - acc: 0.7500\n",
      "Epoch 5/15\n",
      "4/4 [==============================] - 0s 498us/sample - loss: 0.1238 - acc: 0.7500\n",
      "Epoch 6/15\n",
      "4/4 [==============================] - 0s 499us/sample - loss: 0.1238 - acc: 0.7500\n",
      "Epoch 7/15\n",
      "4/4 [==============================] - 0s 501us/sample - loss: 0.1237 - acc: 0.7500\n",
      "Epoch 8/15\n",
      "4/4 [==============================] - 0s 496us/sample - loss: 0.1236 - acc: 0.7500\n",
      "Epoch 9/15\n",
      "4/4 [==============================] - 0s 499us/sample - loss: 0.1236 - acc: 0.7500\n",
      "Epoch 10/15\n",
      "4/4 [==============================] - 0s 249us/sample - loss: 0.1235 - acc: 0.7500\n",
      "Epoch 11/15\n",
      "4/4 [==============================] - 0s 499us/sample - loss: 0.1235 - acc: 0.7500\n",
      "Epoch 12/15\n",
      "4/4 [==============================] - 0s 747us/sample - loss: 0.1234 - acc: 0.7500\n",
      "Epoch 13/15\n",
      "4/4 [==============================] - 0s 750us/sample - loss: 0.1233 - acc: 0.7500\n",
      "Epoch 14/15\n",
      "4/4 [==============================] - 0s 498us/sample - loss: 0.1233 - acc: 0.7500\n",
      "Epoch 15/15\n",
      "4/4 [==============================] - 0s 499us/sample - loss: 0.1232 - acc: 0.7500\n"
     ]
    },
    {
     "data": {
      "text/plain": [
       "<tensorflow.python.keras.callbacks.History at 0x21a980987c8>"
      ]
     },
     "execution_count": 31,
     "metadata": {},
     "output_type": "execute_result"
    }
   ],
   "source": [
    "#Running the model with 15 epochs\n",
    "cbk = CollectWeightCallback(layer_index=0)\n",
    "model.fit(X, y, nb_epoch=15, callbacks=[cbk])"
   ]
  },
  {
   "cell_type": "code",
   "execution_count": 32,
   "metadata": {},
   "outputs": [
    {
     "data": {
      "text/plain": [
       "[[array([[0., 0.],\n",
       "         [0., 0.],\n",
       "         [0., 0.]], dtype=float32), array([0., 0.], dtype=float32)],\n",
       " [array([[0., 0.],\n",
       "         [0., 0.],\n",
       "         [0., 0.]], dtype=float32), array([0., 0.], dtype=float32)],\n",
       " [array([[0., 0.],\n",
       "         [0., 0.],\n",
       "         [0., 0.]], dtype=float32), array([0., 0.], dtype=float32)],\n",
       " [array([[0., 0.],\n",
       "         [0., 0.],\n",
       "         [0., 0.]], dtype=float32), array([0., 0.], dtype=float32)],\n",
       " [array([[0., 0.],\n",
       "         [0., 0.],\n",
       "         [0., 0.]], dtype=float32), array([0., 0.], dtype=float32)],\n",
       " [array([[0., 0.],\n",
       "         [0., 0.],\n",
       "         [0., 0.]], dtype=float32), array([0., 0.], dtype=float32)],\n",
       " [array([[0., 0.],\n",
       "         [0., 0.],\n",
       "         [0., 0.]], dtype=float32), array([0., 0.], dtype=float32)],\n",
       " [array([[0., 0.],\n",
       "         [0., 0.],\n",
       "         [0., 0.]], dtype=float32), array([0., 0.], dtype=float32)],\n",
       " [array([[0., 0.],\n",
       "         [0., 0.],\n",
       "         [0., 0.]], dtype=float32), array([0., 0.], dtype=float32)],\n",
       " [array([[0., 0.],\n",
       "         [0., 0.],\n",
       "         [0., 0.]], dtype=float32), array([0., 0.], dtype=float32)],\n",
       " [array([[0., 0.],\n",
       "         [0., 0.],\n",
       "         [0., 0.]], dtype=float32), array([0., 0.], dtype=float32)],\n",
       " [array([[0., 0.],\n",
       "         [0., 0.],\n",
       "         [0., 0.]], dtype=float32), array([0., 0.], dtype=float32)],\n",
       " [array([[0., 0.],\n",
       "         [0., 0.],\n",
       "         [0., 0.]], dtype=float32), array([0., 0.], dtype=float32)],\n",
       " [array([[0., 0.],\n",
       "         [0., 0.],\n",
       "         [0., 0.]], dtype=float32), array([0., 0.], dtype=float32)],\n",
       " [array([[0., 0.],\n",
       "         [0., 0.],\n",
       "         [0., 0.]], dtype=float32), array([0., 0.], dtype=float32)]]"
      ]
     },
     "execution_count": 32,
     "metadata": {},
     "output_type": "execute_result"
    }
   ],
   "source": [
    "cbk.weights"
   ]
  },
  {
   "cell_type": "code",
   "execution_count": null,
   "metadata": {},
   "outputs": [],
   "source": []
  }
 ],
 "metadata": {
  "kernelspec": {
   "display_name": "Python 3",
   "language": "python",
   "name": "python3"
  },
  "language_info": {
   "codemirror_mode": {
    "name": "ipython",
    "version": 3
   },
   "file_extension": ".py",
   "mimetype": "text/x-python",
   "name": "python",
   "nbconvert_exporter": "python",
   "pygments_lexer": "ipython3",
   "version": "3.7.4"
  }
 },
 "nbformat": 4,
 "nbformat_minor": 2
}
